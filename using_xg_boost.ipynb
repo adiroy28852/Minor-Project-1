{
  "nbformat": 4,
  "nbformat_minor": 0,
  "metadata": {
    "colab": {
      "provenance": []
    },
    "kernelspec": {
      "name": "python3",
      "display_name": "Python 3"
    },
    "language_info": {
      "name": "python"
    }
  },
  "cells": [
    {
      "cell_type": "code",
      "execution_count": null,
      "metadata": {
        "id": "4FjwidGkDx9v",
        "colab": {
          "base_uri": "https://localhost:8080/"
        },
        "outputId": "399e952d-1786-46f0-c500-8b2a81b37880"
      },
      "outputs": [
        {
          "output_type": "stream",
          "name": "stdout",
          "text": [
            "Mounted at /content/drive\n"
          ]
        }
      ],
      "source": [
        "###importing the drive\n",
        "\n",
        "from google.colab import drive\n",
        "drive.mount('/content/drive')"
      ]
    },
    {
      "cell_type": "markdown",
      "source": [
        "Process values from CellProfiler.exe\n",
        "As of the duration of this project, Cellprofier wasnt available as an importable library for either Google colab/Jupyter Notebook, as in installable library"
      ],
      "metadata": {
        "id": "QQARpug-JF0J"
      }
    },
    {
      "cell_type": "code",
      "source": [
        "import pandas as pd\n",
        "df = pd.read_csv(\"/content/drive/My Drive/50 img/final merge end viva.csv\")\n",
        "df.tail()\n",
        "df.drop('Threshold_GuideThreshold_Threshold',axis=1,inplace=True)"
      ],
      "metadata": {
        "id": "eSNTyk7bEQDe"
      },
      "execution_count": null,
      "outputs": []
    },
    {
      "cell_type": "code",
      "source": [
        "label=pd.read_csv(\"/content/drive/My Drive/50 img/final merge 2.csv\")\n",
        "label.tail()"
      ],
      "metadata": {
        "id": "5gMhCcvQJ8HT",
        "colab": {
          "base_uri": "https://localhost:8080/",
          "height": 206
        },
        "outputId": "b13abe46-d8e8-40c6-88a6-2f420b34e7b4"
      },
      "execution_count": null,
      "outputs": [
        {
          "output_type": "execute_result",
          "data": {
            "text/plain": [
              "          Class\n",
              "1140     Viable\n",
              "1141     Viable\n",
              "1142     Viable\n",
              "1143  Non-Tumor\n",
              "1144     Viable"
            ],
            "text/html": [
              "\n",
              "  <div id=\"df-449339a2-bb67-4ab0-9d66-accc079440c3\">\n",
              "    <div class=\"colab-df-container\">\n",
              "      <div>\n",
              "<style scoped>\n",
              "    .dataframe tbody tr th:only-of-type {\n",
              "        vertical-align: middle;\n",
              "    }\n",
              "\n",
              "    .dataframe tbody tr th {\n",
              "        vertical-align: top;\n",
              "    }\n",
              "\n",
              "    .dataframe thead th {\n",
              "        text-align: right;\n",
              "    }\n",
              "</style>\n",
              "<table border=\"1\" class=\"dataframe\">\n",
              "  <thead>\n",
              "    <tr style=\"text-align: right;\">\n",
              "      <th></th>\n",
              "      <th>Class</th>\n",
              "    </tr>\n",
              "  </thead>\n",
              "  <tbody>\n",
              "    <tr>\n",
              "      <th>1140</th>\n",
              "      <td>Viable</td>\n",
              "    </tr>\n",
              "    <tr>\n",
              "      <th>1141</th>\n",
              "      <td>Viable</td>\n",
              "    </tr>\n",
              "    <tr>\n",
              "      <th>1142</th>\n",
              "      <td>Viable</td>\n",
              "    </tr>\n",
              "    <tr>\n",
              "      <th>1143</th>\n",
              "      <td>Non-Tumor</td>\n",
              "    </tr>\n",
              "    <tr>\n",
              "      <th>1144</th>\n",
              "      <td>Viable</td>\n",
              "    </tr>\n",
              "  </tbody>\n",
              "</table>\n",
              "</div>\n",
              "      <button class=\"colab-df-convert\" onclick=\"convertToInteractive('df-449339a2-bb67-4ab0-9d66-accc079440c3')\"\n",
              "              title=\"Convert this dataframe to an interactive table.\"\n",
              "              style=\"display:none;\">\n",
              "        \n",
              "  <svg xmlns=\"http://www.w3.org/2000/svg\" height=\"24px\"viewBox=\"0 0 24 24\"\n",
              "       width=\"24px\">\n",
              "    <path d=\"M0 0h24v24H0V0z\" fill=\"none\"/>\n",
              "    <path d=\"M18.56 5.44l.94 2.06.94-2.06 2.06-.94-2.06-.94-.94-2.06-.94 2.06-2.06.94zm-11 1L8.5 8.5l.94-2.06 2.06-.94-2.06-.94L8.5 2.5l-.94 2.06-2.06.94zm10 10l.94 2.06.94-2.06 2.06-.94-2.06-.94-.94-2.06-.94 2.06-2.06.94z\"/><path d=\"M17.41 7.96l-1.37-1.37c-.4-.4-.92-.59-1.43-.59-.52 0-1.04.2-1.43.59L10.3 9.45l-7.72 7.72c-.78.78-.78 2.05 0 2.83L4 21.41c.39.39.9.59 1.41.59.51 0 1.02-.2 1.41-.59l7.78-7.78 2.81-2.81c.8-.78.8-2.07 0-2.86zM5.41 20L4 18.59l7.72-7.72 1.47 1.35L5.41 20z\"/>\n",
              "  </svg>\n",
              "      </button>\n",
              "      \n",
              "  <style>\n",
              "    .colab-df-container {\n",
              "      display:flex;\n",
              "      flex-wrap:wrap;\n",
              "      gap: 12px;\n",
              "    }\n",
              "\n",
              "    .colab-df-convert {\n",
              "      background-color: #E8F0FE;\n",
              "      border: none;\n",
              "      border-radius: 50%;\n",
              "      cursor: pointer;\n",
              "      display: none;\n",
              "      fill: #1967D2;\n",
              "      height: 32px;\n",
              "      padding: 0 0 0 0;\n",
              "      width: 32px;\n",
              "    }\n",
              "\n",
              "    .colab-df-convert:hover {\n",
              "      background-color: #E2EBFA;\n",
              "      box-shadow: 0px 1px 2px rgba(60, 64, 67, 0.3), 0px 1px 3px 1px rgba(60, 64, 67, 0.15);\n",
              "      fill: #174EA6;\n",
              "    }\n",
              "\n",
              "    [theme=dark] .colab-df-convert {\n",
              "      background-color: #3B4455;\n",
              "      fill: #D2E3FC;\n",
              "    }\n",
              "\n",
              "    [theme=dark] .colab-df-convert:hover {\n",
              "      background-color: #434B5C;\n",
              "      box-shadow: 0px 1px 3px 1px rgba(0, 0, 0, 0.15);\n",
              "      filter: drop-shadow(0px 1px 2px rgba(0, 0, 0, 0.3));\n",
              "      fill: #FFFFFF;\n",
              "    }\n",
              "  </style>\n",
              "\n",
              "      <script>\n",
              "        const buttonEl =\n",
              "          document.querySelector('#df-449339a2-bb67-4ab0-9d66-accc079440c3 button.colab-df-convert');\n",
              "        buttonEl.style.display =\n",
              "          google.colab.kernel.accessAllowed ? 'block' : 'none';\n",
              "\n",
              "        async function convertToInteractive(key) {\n",
              "          const element = document.querySelector('#df-449339a2-bb67-4ab0-9d66-accc079440c3');\n",
              "          const dataTable =\n",
              "            await google.colab.kernel.invokeFunction('convertToInteractive',\n",
              "                                                     [key], {});\n",
              "          if (!dataTable) return;\n",
              "\n",
              "          const docLinkHtml = 'Like what you see? Visit the ' +\n",
              "            '<a target=\"_blank\" href=https://colab.research.google.com/notebooks/data_table.ipynb>data table notebook</a>'\n",
              "            + ' to learn more about interactive tables.';\n",
              "          element.innerHTML = '';\n",
              "          dataTable['output_type'] = 'display_data';\n",
              "          await google.colab.output.renderOutput(dataTable, element);\n",
              "          const docLink = document.createElement('div');\n",
              "          docLink.innerHTML = docLinkHtml;\n",
              "          element.appendChild(docLink);\n",
              "        }\n",
              "      </script>\n",
              "    </div>\n",
              "  </div>\n",
              "  "
            ]
          },
          "metadata": {},
          "execution_count": 3
        }
      ]
    },
    {
      "cell_type": "markdown",
      "source": [
        "final merge end viva- params\n",
        "\n",
        "final merge 2- results"
      ],
      "metadata": {
        "id": "a-7HLOQhMBsl"
      }
    },
    {
      "cell_type": "code",
      "source": [
        "label.value_counts()"
      ],
      "metadata": {
        "id": "ZphwCesLeqpQ",
        "colab": {
          "base_uri": "https://localhost:8080/"
        },
        "outputId": "cd537cfe-0e59-48d5-bfa2-6e6f39f49719"
      },
      "execution_count": null,
      "outputs": [
        {
          "output_type": "execute_result",
          "data": {
            "text/plain": [
              "Class           \n",
              "Non-Tumor           537\n",
              "Viable              345\n",
              "Non-Viable-Tumor    263\n",
              "dtype: int64"
            ]
          },
          "metadata": {},
          "execution_count": 4
        }
      ]
    },
    {
      "cell_type": "code",
      "source": [
        "###Separting features and labels\n",
        "\n",
        "df.shape\n",
        "\n",
        "# x, y = df.iloc[:, :-1], df.iloc[:, [-1]]\n",
        "x = df\n",
        "x.tail()\n"
      ],
      "metadata": {
        "id": "EsjjcO5XFMAg",
        "colab": {
          "base_uri": "https://localhost:8080/",
          "height": 300
        },
        "outputId": "3147c338-73a9-40b3-ccfd-5eee323f6963"
      },
      "execution_count": null,
      "outputs": [
        {
          "output_type": "execute_result",
          "data": {
            "text/plain": [
              "      Count_Nuclei  Texture_AngularSecondMoment_Eosin_3_00_256  \\\n",
              "1140            59                                    0.740013   \n",
              "1141           183                                    0.345350   \n",
              "1142           251                                    0.328921   \n",
              "1143           190                                    0.288879   \n",
              "1144           116                                    0.008802   \n",
              "\n",
              "      Texture_AngularSecondMoment_Eosin_3_01_256  \\\n",
              "1140                                    0.733844   \n",
              "1141                                    0.334009   \n",
              "1142                                    0.315658   \n",
              "1143                                    0.277776   \n",
              "1144                                    0.007729   \n",
              "\n",
              "      Texture_AngularSecondMoment_Eosin_3_02_256  \\\n",
              "1140                                    0.737734   \n",
              "1141                                    0.344936   \n",
              "1142                                    0.329930   \n",
              "1143                                    0.291014   \n",
              "1144                                    0.008599   \n",
              "\n",
              "      Texture_AngularSecondMoment_Eosin_3_03_256  \\\n",
              "1140                                    0.734658   \n",
              "1141                                    0.337988   \n",
              "1142                                    0.319095   \n",
              "1143                                    0.278356   \n",
              "1144                                    0.008095   \n",
              "\n",
              "      Texture_AngularSecondMoment_Hematoxylin_3_00_256  \\\n",
              "1140                                          0.335149   \n",
              "1141                                          0.121797   \n",
              "1142                                          0.202433   \n",
              "1143                                          0.087180   \n",
              "1144                                          0.004468   \n",
              "\n",
              "      Texture_AngularSecondMoment_Hematoxylin_3_01_256  \\\n",
              "1140                                          0.301680   \n",
              "1141                                          0.105247   \n",
              "1142                                          0.187718   \n",
              "1143                                          0.073935   \n",
              "1144                                          0.003745   \n",
              "\n",
              "      Texture_AngularSecondMoment_Hematoxylin_3_02_256  \\\n",
              "1140                                          0.334826   \n",
              "1141                                          0.122016   \n",
              "1142                                          0.202350   \n",
              "1143                                          0.087425   \n",
              "1144                                          0.004440   \n",
              "\n",
              "      Texture_AngularSecondMoment_Hematoxylin_3_03_256  \\\n",
              "1140                                          0.301495   \n",
              "1141                                          0.105596   \n",
              "1142                                          0.188518   \n",
              "1143                                          0.073816   \n",
              "1144                                          0.003808   \n",
              "\n",
              "      Texture_Contrast_Eosin_3_00_256  ...  Texture_Variance_Eosin_3_03_256  \\\n",
              "1140                        94.725833  ...                      1991.304977   \n",
              "1141                       231.637228  ...                      5802.217630   \n",
              "1142                       258.481395  ...                      4185.423302   \n",
              "1143                       305.017156  ...                      3391.332813   \n",
              "1144                        80.597227  ...                      2118.291241   \n",
              "\n",
              "      Texture_Variance_Hematoxylin_3_00_256  \\\n",
              "1140                             441.675673   \n",
              "1141                            1020.059162   \n",
              "1142                            1096.682823   \n",
              "1143                            1552.266569   \n",
              "1144                             270.367907   \n",
              "\n",
              "      Texture_Variance_Hematoxylin_3_01_256  \\\n",
              "1140                             442.437653   \n",
              "1141                            1019.516116   \n",
              "1142                            1097.291210   \n",
              "1143                            1552.143639   \n",
              "1144                             270.684546   \n",
              "\n",
              "      Texture_Variance_Hematoxylin_3_02_256  \\\n",
              "1140                             442.763091   \n",
              "1141                            1018.093486   \n",
              "1142                            1096.329817   \n",
              "1143                            1549.425309   \n",
              "1144                             270.765828   \n",
              "\n",
              "      Texture_Variance_Hematoxylin_3_03_256  \\\n",
              "1140                             442.437603   \n",
              "1141                            1019.518058   \n",
              "1142                            1097.289906   \n",
              "1143                            1552.144546   \n",
              "1144                             270.684507   \n",
              "\n",
              "      Threshold_FinalThreshold_Threshold  Threshold_OrigThreshold_Threshold  \\\n",
              "1140                            0.079995                           0.045419   \n",
              "1141                            0.122628                           0.157803   \n",
              "1142                            0.112608                           0.118631   \n",
              "1143                            0.103355                           0.110403   \n",
              "1144                            0.169738                           0.383801   \n",
              "\n",
              "      Threshold_SumOfEntropies_Threshold  Threshold_WeightedVariance_Nuclei  \\\n",
              "1140                          -11.313659                           6.010133   \n",
              "1141                          -11.333284                          13.918079   \n",
              "1142                          -11.586039                          13.387838   \n",
              "1143                          -12.391493                          13.776517   \n",
              "1144                          -10.922806                           8.083920   \n",
              "\n",
              "      Threshold_WeightedVariance_Threshold  \n",
              "1140                              0.297840  \n",
              "1141                              0.743381  \n",
              "1142                              0.933204  \n",
              "1143                              1.247188  \n",
              "1144                              0.343667  \n",
              "\n",
              "[5 rows x 110 columns]"
            ],
            "text/html": [
              "\n",
              "  <div id=\"df-e9d282bf-555a-4ce1-b03b-58fc44ec3d8c\">\n",
              "    <div class=\"colab-df-container\">\n",
              "      <div>\n",
              "<style scoped>\n",
              "    .dataframe tbody tr th:only-of-type {\n",
              "        vertical-align: middle;\n",
              "    }\n",
              "\n",
              "    .dataframe tbody tr th {\n",
              "        vertical-align: top;\n",
              "    }\n",
              "\n",
              "    .dataframe thead th {\n",
              "        text-align: right;\n",
              "    }\n",
              "</style>\n",
              "<table border=\"1\" class=\"dataframe\">\n",
              "  <thead>\n",
              "    <tr style=\"text-align: right;\">\n",
              "      <th></th>\n",
              "      <th>Count_Nuclei</th>\n",
              "      <th>Texture_AngularSecondMoment_Eosin_3_00_256</th>\n",
              "      <th>Texture_AngularSecondMoment_Eosin_3_01_256</th>\n",
              "      <th>Texture_AngularSecondMoment_Eosin_3_02_256</th>\n",
              "      <th>Texture_AngularSecondMoment_Eosin_3_03_256</th>\n",
              "      <th>Texture_AngularSecondMoment_Hematoxylin_3_00_256</th>\n",
              "      <th>Texture_AngularSecondMoment_Hematoxylin_3_01_256</th>\n",
              "      <th>Texture_AngularSecondMoment_Hematoxylin_3_02_256</th>\n",
              "      <th>Texture_AngularSecondMoment_Hematoxylin_3_03_256</th>\n",
              "      <th>Texture_Contrast_Eosin_3_00_256</th>\n",
              "      <th>...</th>\n",
              "      <th>Texture_Variance_Eosin_3_03_256</th>\n",
              "      <th>Texture_Variance_Hematoxylin_3_00_256</th>\n",
              "      <th>Texture_Variance_Hematoxylin_3_01_256</th>\n",
              "      <th>Texture_Variance_Hematoxylin_3_02_256</th>\n",
              "      <th>Texture_Variance_Hematoxylin_3_03_256</th>\n",
              "      <th>Threshold_FinalThreshold_Threshold</th>\n",
              "      <th>Threshold_OrigThreshold_Threshold</th>\n",
              "      <th>Threshold_SumOfEntropies_Threshold</th>\n",
              "      <th>Threshold_WeightedVariance_Nuclei</th>\n",
              "      <th>Threshold_WeightedVariance_Threshold</th>\n",
              "    </tr>\n",
              "  </thead>\n",
              "  <tbody>\n",
              "    <tr>\n",
              "      <th>1140</th>\n",
              "      <td>59</td>\n",
              "      <td>0.740013</td>\n",
              "      <td>0.733844</td>\n",
              "      <td>0.737734</td>\n",
              "      <td>0.734658</td>\n",
              "      <td>0.335149</td>\n",
              "      <td>0.301680</td>\n",
              "      <td>0.334826</td>\n",
              "      <td>0.301495</td>\n",
              "      <td>94.725833</td>\n",
              "      <td>...</td>\n",
              "      <td>1991.304977</td>\n",
              "      <td>441.675673</td>\n",
              "      <td>442.437653</td>\n",
              "      <td>442.763091</td>\n",
              "      <td>442.437603</td>\n",
              "      <td>0.079995</td>\n",
              "      <td>0.045419</td>\n",
              "      <td>-11.313659</td>\n",
              "      <td>6.010133</td>\n",
              "      <td>0.297840</td>\n",
              "    </tr>\n",
              "    <tr>\n",
              "      <th>1141</th>\n",
              "      <td>183</td>\n",
              "      <td>0.345350</td>\n",
              "      <td>0.334009</td>\n",
              "      <td>0.344936</td>\n",
              "      <td>0.337988</td>\n",
              "      <td>0.121797</td>\n",
              "      <td>0.105247</td>\n",
              "      <td>0.122016</td>\n",
              "      <td>0.105596</td>\n",
              "      <td>231.637228</td>\n",
              "      <td>...</td>\n",
              "      <td>5802.217630</td>\n",
              "      <td>1020.059162</td>\n",
              "      <td>1019.516116</td>\n",
              "      <td>1018.093486</td>\n",
              "      <td>1019.518058</td>\n",
              "      <td>0.122628</td>\n",
              "      <td>0.157803</td>\n",
              "      <td>-11.333284</td>\n",
              "      <td>13.918079</td>\n",
              "      <td>0.743381</td>\n",
              "    </tr>\n",
              "    <tr>\n",
              "      <th>1142</th>\n",
              "      <td>251</td>\n",
              "      <td>0.328921</td>\n",
              "      <td>0.315658</td>\n",
              "      <td>0.329930</td>\n",
              "      <td>0.319095</td>\n",
              "      <td>0.202433</td>\n",
              "      <td>0.187718</td>\n",
              "      <td>0.202350</td>\n",
              "      <td>0.188518</td>\n",
              "      <td>258.481395</td>\n",
              "      <td>...</td>\n",
              "      <td>4185.423302</td>\n",
              "      <td>1096.682823</td>\n",
              "      <td>1097.291210</td>\n",
              "      <td>1096.329817</td>\n",
              "      <td>1097.289906</td>\n",
              "      <td>0.112608</td>\n",
              "      <td>0.118631</td>\n",
              "      <td>-11.586039</td>\n",
              "      <td>13.387838</td>\n",
              "      <td>0.933204</td>\n",
              "    </tr>\n",
              "    <tr>\n",
              "      <th>1143</th>\n",
              "      <td>190</td>\n",
              "      <td>0.288879</td>\n",
              "      <td>0.277776</td>\n",
              "      <td>0.291014</td>\n",
              "      <td>0.278356</td>\n",
              "      <td>0.087180</td>\n",
              "      <td>0.073935</td>\n",
              "      <td>0.087425</td>\n",
              "      <td>0.073816</td>\n",
              "      <td>305.017156</td>\n",
              "      <td>...</td>\n",
              "      <td>3391.332813</td>\n",
              "      <td>1552.266569</td>\n",
              "      <td>1552.143639</td>\n",
              "      <td>1549.425309</td>\n",
              "      <td>1552.144546</td>\n",
              "      <td>0.103355</td>\n",
              "      <td>0.110403</td>\n",
              "      <td>-12.391493</td>\n",
              "      <td>13.776517</td>\n",
              "      <td>1.247188</td>\n",
              "    </tr>\n",
              "    <tr>\n",
              "      <th>1144</th>\n",
              "      <td>116</td>\n",
              "      <td>0.008802</td>\n",
              "      <td>0.007729</td>\n",
              "      <td>0.008599</td>\n",
              "      <td>0.008095</td>\n",
              "      <td>0.004468</td>\n",
              "      <td>0.003745</td>\n",
              "      <td>0.004440</td>\n",
              "      <td>0.003808</td>\n",
              "      <td>80.597227</td>\n",
              "      <td>...</td>\n",
              "      <td>2118.291241</td>\n",
              "      <td>270.367907</td>\n",
              "      <td>270.684546</td>\n",
              "      <td>270.765828</td>\n",
              "      <td>270.684507</td>\n",
              "      <td>0.169738</td>\n",
              "      <td>0.383801</td>\n",
              "      <td>-10.922806</td>\n",
              "      <td>8.083920</td>\n",
              "      <td>0.343667</td>\n",
              "    </tr>\n",
              "  </tbody>\n",
              "</table>\n",
              "<p>5 rows × 110 columns</p>\n",
              "</div>\n",
              "      <button class=\"colab-df-convert\" onclick=\"convertToInteractive('df-e9d282bf-555a-4ce1-b03b-58fc44ec3d8c')\"\n",
              "              title=\"Convert this dataframe to an interactive table.\"\n",
              "              style=\"display:none;\">\n",
              "        \n",
              "  <svg xmlns=\"http://www.w3.org/2000/svg\" height=\"24px\"viewBox=\"0 0 24 24\"\n",
              "       width=\"24px\">\n",
              "    <path d=\"M0 0h24v24H0V0z\" fill=\"none\"/>\n",
              "    <path d=\"M18.56 5.44l.94 2.06.94-2.06 2.06-.94-2.06-.94-.94-2.06-.94 2.06-2.06.94zm-11 1L8.5 8.5l.94-2.06 2.06-.94-2.06-.94L8.5 2.5l-.94 2.06-2.06.94zm10 10l.94 2.06.94-2.06 2.06-.94-2.06-.94-.94-2.06-.94 2.06-2.06.94z\"/><path d=\"M17.41 7.96l-1.37-1.37c-.4-.4-.92-.59-1.43-.59-.52 0-1.04.2-1.43.59L10.3 9.45l-7.72 7.72c-.78.78-.78 2.05 0 2.83L4 21.41c.39.39.9.59 1.41.59.51 0 1.02-.2 1.41-.59l7.78-7.78 2.81-2.81c.8-.78.8-2.07 0-2.86zM5.41 20L4 18.59l7.72-7.72 1.47 1.35L5.41 20z\"/>\n",
              "  </svg>\n",
              "      </button>\n",
              "      \n",
              "  <style>\n",
              "    .colab-df-container {\n",
              "      display:flex;\n",
              "      flex-wrap:wrap;\n",
              "      gap: 12px;\n",
              "    }\n",
              "\n",
              "    .colab-df-convert {\n",
              "      background-color: #E8F0FE;\n",
              "      border: none;\n",
              "      border-radius: 50%;\n",
              "      cursor: pointer;\n",
              "      display: none;\n",
              "      fill: #1967D2;\n",
              "      height: 32px;\n",
              "      padding: 0 0 0 0;\n",
              "      width: 32px;\n",
              "    }\n",
              "\n",
              "    .colab-df-convert:hover {\n",
              "      background-color: #E2EBFA;\n",
              "      box-shadow: 0px 1px 2px rgba(60, 64, 67, 0.3), 0px 1px 3px 1px rgba(60, 64, 67, 0.15);\n",
              "      fill: #174EA6;\n",
              "    }\n",
              "\n",
              "    [theme=dark] .colab-df-convert {\n",
              "      background-color: #3B4455;\n",
              "      fill: #D2E3FC;\n",
              "    }\n",
              "\n",
              "    [theme=dark] .colab-df-convert:hover {\n",
              "      background-color: #434B5C;\n",
              "      box-shadow: 0px 1px 3px 1px rgba(0, 0, 0, 0.15);\n",
              "      filter: drop-shadow(0px 1px 2px rgba(0, 0, 0, 0.3));\n",
              "      fill: #FFFFFF;\n",
              "    }\n",
              "  </style>\n",
              "\n",
              "      <script>\n",
              "        const buttonEl =\n",
              "          document.querySelector('#df-e9d282bf-555a-4ce1-b03b-58fc44ec3d8c button.colab-df-convert');\n",
              "        buttonEl.style.display =\n",
              "          google.colab.kernel.accessAllowed ? 'block' : 'none';\n",
              "\n",
              "        async function convertToInteractive(key) {\n",
              "          const element = document.querySelector('#df-e9d282bf-555a-4ce1-b03b-58fc44ec3d8c');\n",
              "          const dataTable =\n",
              "            await google.colab.kernel.invokeFunction('convertToInteractive',\n",
              "                                                     [key], {});\n",
              "          if (!dataTable) return;\n",
              "\n",
              "          const docLinkHtml = 'Like what you see? Visit the ' +\n",
              "            '<a target=\"_blank\" href=https://colab.research.google.com/notebooks/data_table.ipynb>data table notebook</a>'\n",
              "            + ' to learn more about interactive tables.';\n",
              "          element.innerHTML = '';\n",
              "          dataTable['output_type'] = 'display_data';\n",
              "          await google.colab.output.renderOutput(dataTable, element);\n",
              "          const docLink = document.createElement('div');\n",
              "          docLink.innerHTML = docLinkHtml;\n",
              "          element.appendChild(docLink);\n",
              "        }\n",
              "      </script>\n",
              "    </div>\n",
              "  </div>\n",
              "  "
            ]
          },
          "metadata": {},
          "execution_count": 5
        }
      ]
    },
    {
      "cell_type": "code",
      "source": [
        "y = label\n",
        "y.tail()\n"
      ],
      "metadata": {
        "id": "tgIjZsj8G_Ct",
        "colab": {
          "base_uri": "https://localhost:8080/",
          "height": 206
        },
        "outputId": "37d34f35-730a-49a1-9eef-6ab2021a8bd7"
      },
      "execution_count": null,
      "outputs": [
        {
          "output_type": "execute_result",
          "data": {
            "text/plain": [
              "          Class\n",
              "1140     Viable\n",
              "1141     Viable\n",
              "1142     Viable\n",
              "1143  Non-Tumor\n",
              "1144     Viable"
            ],
            "text/html": [
              "\n",
              "  <div id=\"df-b7fd5933-d86e-4ec0-9363-90657f307e6f\">\n",
              "    <div class=\"colab-df-container\">\n",
              "      <div>\n",
              "<style scoped>\n",
              "    .dataframe tbody tr th:only-of-type {\n",
              "        vertical-align: middle;\n",
              "    }\n",
              "\n",
              "    .dataframe tbody tr th {\n",
              "        vertical-align: top;\n",
              "    }\n",
              "\n",
              "    .dataframe thead th {\n",
              "        text-align: right;\n",
              "    }\n",
              "</style>\n",
              "<table border=\"1\" class=\"dataframe\">\n",
              "  <thead>\n",
              "    <tr style=\"text-align: right;\">\n",
              "      <th></th>\n",
              "      <th>Class</th>\n",
              "    </tr>\n",
              "  </thead>\n",
              "  <tbody>\n",
              "    <tr>\n",
              "      <th>1140</th>\n",
              "      <td>Viable</td>\n",
              "    </tr>\n",
              "    <tr>\n",
              "      <th>1141</th>\n",
              "      <td>Viable</td>\n",
              "    </tr>\n",
              "    <tr>\n",
              "      <th>1142</th>\n",
              "      <td>Viable</td>\n",
              "    </tr>\n",
              "    <tr>\n",
              "      <th>1143</th>\n",
              "      <td>Non-Tumor</td>\n",
              "    </tr>\n",
              "    <tr>\n",
              "      <th>1144</th>\n",
              "      <td>Viable</td>\n",
              "    </tr>\n",
              "  </tbody>\n",
              "</table>\n",
              "</div>\n",
              "      <button class=\"colab-df-convert\" onclick=\"convertToInteractive('df-b7fd5933-d86e-4ec0-9363-90657f307e6f')\"\n",
              "              title=\"Convert this dataframe to an interactive table.\"\n",
              "              style=\"display:none;\">\n",
              "        \n",
              "  <svg xmlns=\"http://www.w3.org/2000/svg\" height=\"24px\"viewBox=\"0 0 24 24\"\n",
              "       width=\"24px\">\n",
              "    <path d=\"M0 0h24v24H0V0z\" fill=\"none\"/>\n",
              "    <path d=\"M18.56 5.44l.94 2.06.94-2.06 2.06-.94-2.06-.94-.94-2.06-.94 2.06-2.06.94zm-11 1L8.5 8.5l.94-2.06 2.06-.94-2.06-.94L8.5 2.5l-.94 2.06-2.06.94zm10 10l.94 2.06.94-2.06 2.06-.94-2.06-.94-.94-2.06-.94 2.06-2.06.94z\"/><path d=\"M17.41 7.96l-1.37-1.37c-.4-.4-.92-.59-1.43-.59-.52 0-1.04.2-1.43.59L10.3 9.45l-7.72 7.72c-.78.78-.78 2.05 0 2.83L4 21.41c.39.39.9.59 1.41.59.51 0 1.02-.2 1.41-.59l7.78-7.78 2.81-2.81c.8-.78.8-2.07 0-2.86zM5.41 20L4 18.59l7.72-7.72 1.47 1.35L5.41 20z\"/>\n",
              "  </svg>\n",
              "      </button>\n",
              "      \n",
              "  <style>\n",
              "    .colab-df-container {\n",
              "      display:flex;\n",
              "      flex-wrap:wrap;\n",
              "      gap: 12px;\n",
              "    }\n",
              "\n",
              "    .colab-df-convert {\n",
              "      background-color: #E8F0FE;\n",
              "      border: none;\n",
              "      border-radius: 50%;\n",
              "      cursor: pointer;\n",
              "      display: none;\n",
              "      fill: #1967D2;\n",
              "      height: 32px;\n",
              "      padding: 0 0 0 0;\n",
              "      width: 32px;\n",
              "    }\n",
              "\n",
              "    .colab-df-convert:hover {\n",
              "      background-color: #E2EBFA;\n",
              "      box-shadow: 0px 1px 2px rgba(60, 64, 67, 0.3), 0px 1px 3px 1px rgba(60, 64, 67, 0.15);\n",
              "      fill: #174EA6;\n",
              "    }\n",
              "\n",
              "    [theme=dark] .colab-df-convert {\n",
              "      background-color: #3B4455;\n",
              "      fill: #D2E3FC;\n",
              "    }\n",
              "\n",
              "    [theme=dark] .colab-df-convert:hover {\n",
              "      background-color: #434B5C;\n",
              "      box-shadow: 0px 1px 3px 1px rgba(0, 0, 0, 0.15);\n",
              "      filter: drop-shadow(0px 1px 2px rgba(0, 0, 0, 0.3));\n",
              "      fill: #FFFFFF;\n",
              "    }\n",
              "  </style>\n",
              "\n",
              "      <script>\n",
              "        const buttonEl =\n",
              "          document.querySelector('#df-b7fd5933-d86e-4ec0-9363-90657f307e6f button.colab-df-convert');\n",
              "        buttonEl.style.display =\n",
              "          google.colab.kernel.accessAllowed ? 'block' : 'none';\n",
              "\n",
              "        async function convertToInteractive(key) {\n",
              "          const element = document.querySelector('#df-b7fd5933-d86e-4ec0-9363-90657f307e6f');\n",
              "          const dataTable =\n",
              "            await google.colab.kernel.invokeFunction('convertToInteractive',\n",
              "                                                     [key], {});\n",
              "          if (!dataTable) return;\n",
              "\n",
              "          const docLinkHtml = 'Like what you see? Visit the ' +\n",
              "            '<a target=\"_blank\" href=https://colab.research.google.com/notebooks/data_table.ipynb>data table notebook</a>'\n",
              "            + ' to learn more about interactive tables.';\n",
              "          element.innerHTML = '';\n",
              "          dataTable['output_type'] = 'display_data';\n",
              "          await google.colab.output.renderOutput(dataTable, element);\n",
              "          const docLink = document.createElement('div');\n",
              "          docLink.innerHTML = docLinkHtml;\n",
              "          element.appendChild(docLink);\n",
              "        }\n",
              "      </script>\n",
              "    </div>\n",
              "  </div>\n",
              "  "
            ]
          },
          "metadata": {},
          "execution_count": 6
        }
      ]
    },
    {
      "cell_type": "code",
      "source": [
        "#converting csv to matrix for features\n",
        "feature_matrix = x.values\n",
        "print(feature_matrix)\n"
      ],
      "metadata": {
        "id": "joiHQ9dtHCpY",
        "colab": {
          "base_uri": "https://localhost:8080/"
        },
        "outputId": "9c0233c3-da5b-42bc-c372-033cf318aaf0"
      },
      "execution_count": null,
      "outputs": [
        {
          "output_type": "stream",
          "name": "stdout",
          "text": [
            "[[ 2.97000000e+02  1.04808323e-01  9.26593200e-02 ... -1.28041965e+01\n",
            "   1.55317708e+01  1.39538584e+00]\n",
            " [ 1.63000000e+02  8.99333190e-02  8.67517730e-02 ... -1.02158674e+01\n",
            "   1.47881563e+01  6.20615058e-01]\n",
            " [ 2.15000000e+02  1.17870810e-02  8.94739400e-03 ... -1.14877207e+01\n",
            "   1.58560656e+01  1.69776173e+00]\n",
            " ...\n",
            " [ 2.51000000e+02  3.28921178e-01  3.15657857e-01 ... -1.15860390e+01\n",
            "   1.33878375e+01  9.33204305e-01]\n",
            " [ 1.90000000e+02  2.88878711e-01  2.77776214e-01 ... -1.23914926e+01\n",
            "   1.37765175e+01  1.24718848e+00]\n",
            " [ 1.16000000e+02  8.80237800e-03  7.72866800e-03 ... -1.09228062e+01\n",
            "   8.08392032e+00  3.43666612e-01]]\n"
          ]
        }
      ]
    },
    {
      "cell_type": "code",
      "source": [],
      "metadata": {
        "id": "U5SfOY8sxXDl"
      },
      "execution_count": null,
      "outputs": []
    },
    {
      "cell_type": "code",
      "source": [
        "#converting csv to matrix for training data\n",
        "result_matrix = y.values\n",
        "# print(result_matrix)\n",
        "\n",
        "\n",
        "result_matrix"
      ],
      "metadata": {
        "id": "HaEu-6GpIzqL",
        "colab": {
          "base_uri": "https://localhost:8080/"
        },
        "outputId": "23d544c2-6bc7-458a-ede9-2882d8907653"
      },
      "execution_count": null,
      "outputs": [
        {
          "output_type": "execute_result",
          "data": {
            "text/plain": [
              "array([['Non-Viable-Tumor'],\n",
              "       ['Non-Viable-Tumor'],\n",
              "       ['Non-Viable-Tumor'],\n",
              "       ...,\n",
              "       ['Viable'],\n",
              "       ['Non-Tumor'],\n",
              "       ['Viable']], dtype=object)"
            ]
          },
          "metadata": {},
          "execution_count": 8
        }
      ]
    },
    {
      "cell_type": "code",
      "source": [
        "#traning the model\n",
        "\n",
        "import xgboost as xgb\n",
        "\n",
        "# model = xgb.XGBClassifier(objective=\"binary:logistic\")\n",
        "#depth, subsample found best found best. learning has been set to 1 as referred to paper, rest bruteforced\n",
        "model = xgb.XGBClassifier(objective=\"binary:logistic\", booster=\"gbtree\", subsample= 0.85, tree_method=\"exact\", max_depth= 3, learning_rate=1)\n",
        "\n",
        "model.fit(feature_matrix,result_matrix)\n"
      ],
      "metadata": {
        "id": "Q1pXhDM9K2kj",
        "colab": {
          "base_uri": "https://localhost:8080/"
        },
        "outputId": "3e618c29-2412-494b-9777-aa5b0429ee4d"
      },
      "execution_count": null,
      "outputs": [
        {
          "output_type": "stream",
          "name": "stderr",
          "text": [
            "/usr/local/lib/python3.8/dist-packages/sklearn/preprocessing/_label.py:98: DataConversionWarning: A column-vector y was passed when a 1d array was expected. Please change the shape of y to (n_samples, ), for example using ravel().\n",
            "  y = column_or_1d(y, warn=True)\n",
            "/usr/local/lib/python3.8/dist-packages/sklearn/preprocessing/_label.py:133: DataConversionWarning: A column-vector y was passed when a 1d array was expected. Please change the shape of y to (n_samples, ), for example using ravel().\n",
            "  y = column_or_1d(y, warn=True)\n"
          ]
        },
        {
          "output_type": "execute_result",
          "data": {
            "text/plain": [
              "XGBClassifier(learning_rate=1, objective='multi:softprob', subsample=0.85,\n",
              "              tree_method='exact')"
            ]
          },
          "metadata": {},
          "execution_count": 9
        }
      ]
    },
    {
      "cell_type": "code",
      "source": [
        "# for i in range(0,101):\n",
        "#   print(\"for random state \")\n",
        "#   print(i)\n",
        "#   model = xgb.XGBClassifier(objective=\"binary:logistic\",random_state=i)\n",
        "#   model.fit(feature_matrix,result_matrix)\n",
        "#   pred = model.predict(feature_matrix)\n",
        "#   from sklearn.metrics import accuracy_score\n",
        "#   score = accuracy_score(result_matrix,pred)*100\n",
        "#   print (score)\n",
        "\n",
        "\n",
        "\n",
        ""
      ],
      "metadata": {
        "id": "RXwVIjR1P7A7"
      },
      "execution_count": null,
      "outputs": []
    },
    {
      "cell_type": "code",
      "source": [
        "pred = model.predict(feature_matrix)\n"
      ],
      "metadata": {
        "id": "ZmobY6MWP2ck"
      },
      "execution_count": null,
      "outputs": []
    },
    {
      "cell_type": "code",
      "source": [
        "pred"
      ],
      "metadata": {
        "colab": {
          "base_uri": "https://localhost:8080/"
        },
        "id": "G2ObPQJz7zh3",
        "outputId": "77c8b27b-be3b-4800-c249-ef70f9181a47"
      },
      "execution_count": null,
      "outputs": [
        {
          "output_type": "execute_result",
          "data": {
            "text/plain": [
              "array(['Non-Viable-Tumor', 'Non-Viable-Tumor', 'Non-Viable-Tumor', ...,\n",
              "       'Viable', 'Non-Tumor', 'Viable'], dtype=object)"
            ]
          },
          "metadata": {},
          "execution_count": 12
        }
      ]
    },
    {
      "cell_type": "code",
      "source": [
        "from sklearn.metrics import confusion_matrix\n",
        "mat = confusion_matrix(result_matrix,pred)\n",
        "mat\n"
      ],
      "metadata": {
        "id": "CvAqc09QROco",
        "colab": {
          "base_uri": "https://localhost:8080/"
        },
        "outputId": "fb431d32-ffb1-472b-d3af-2e72c40db912"
      },
      "execution_count": null,
      "outputs": [
        {
          "output_type": "execute_result",
          "data": {
            "text/plain": [
              "array([[537,   0,   0],\n",
              "       [  0, 263,   0],\n",
              "       [  0,   0, 345]])"
            ]
          },
          "metadata": {},
          "execution_count": 13
        }
      ]
    },
    {
      "cell_type": "code",
      "source": [
        "from sklearn.metrics import accuracy_score\n",
        "accuracy_score(result_matrix,pred)*100"
      ],
      "metadata": {
        "id": "NatFvw2DR4Yl",
        "colab": {
          "base_uri": "https://localhost:8080/"
        },
        "outputId": "94e3de86-b6df-40a7-c381-ac2c527ce82f"
      },
      "execution_count": null,
      "outputs": [
        {
          "output_type": "execute_result",
          "data": {
            "text/plain": [
              "100.0"
            ]
          },
          "metadata": {},
          "execution_count": 14
        }
      ]
    },
    {
      "cell_type": "code",
      "source": [
        "import numpy as np\n",
        "sum = np.sum(mat)\n",
        "print(sum)"
      ],
      "metadata": {
        "id": "eDGy7PXgkFJU",
        "colab": {
          "base_uri": "https://localhost:8080/"
        },
        "outputId": "ff4a03e2-ebe4-4013-d666-8a740ebca9f7"
      },
      "execution_count": null,
      "outputs": [
        {
          "output_type": "stream",
          "name": "stdout",
          "text": [
            "1145\n"
          ]
        }
      ]
    },
    {
      "cell_type": "code",
      "source": [
        "np.unique(pred)"
      ],
      "metadata": {
        "id": "_zy7joIf9-2q",
        "colab": {
          "base_uri": "https://localhost:8080/"
        },
        "outputId": "9a160847-0b93-432b-a409-f857d3a98ac9"
      },
      "execution_count": null,
      "outputs": [
        {
          "output_type": "execute_result",
          "data": {
            "text/plain": [
              "array(['Non-Tumor', 'Non-Viable-Tumor', 'Viable'], dtype=object)"
            ]
          },
          "metadata": {},
          "execution_count": 16
        }
      ]
    },
    {
      "cell_type": "code",
      "source": [],
      "metadata": {
        "id": "RHlV9bZHlyg4"
      },
      "execution_count": null,
      "outputs": []
    },
    {
      "cell_type": "code",
      "source": [],
      "metadata": {
        "id": "2yr1Qr-Uq3oj"
      },
      "execution_count": null,
      "outputs": []
    }
  ]
}